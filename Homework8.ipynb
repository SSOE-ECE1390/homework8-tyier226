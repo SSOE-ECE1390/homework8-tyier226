{
 "cells": [
  {
   "cell_type": "markdown",
   "id": "183268bd",
   "metadata": {},
   "source": [
    "3) Using the ACUCO symbols, align and orient the photograph \n",
    "\n",
    "4) Using EasyOCR, read in the name box that you wrote\n",
    "\n",
    "5) Write code to check which of the two checkboxes is marked by comparing the intensity in the two boxes\n",
    "\n",
    "6) Using the example from class on OCR-digits, decode the 5 numbers you wrote\n",
    "\n",
    "6) Using Tesseract-OCR, read the printed text box (\"some test to decode by openCV')\n",
    "\n",
    "7) Using MediaPipe, find the facial features for the image of Dr Huppert and draw the markers on the image."
   ]
  },
  {
   "cell_type": "code",
   "execution_count": 99,
   "id": "d31a2a99",
   "metadata": {
    "scrolled": true
   },
   "outputs": [
    {
     "name": "stdout",
     "output_type": "stream",
     "text": [
      "Detected Name: ty lec Yacington\n",
      "Selected Checkbox: ECE 2390\n",
      "Detected Digits: 4\n",
      "Detected Text: S O M = T E x T\n",
      "T O D E Cc O D E\n",
      "B Y O P E N Cc V\n"
     ]
    }
   ],
   "source": [
    "import cv2\n",
    "import pytesseract\n",
    "import numpy as np\n",
    "\n",
    "pytesseract.pytesseract.tesseract_cmd = r\"C:\\Program Files\\Tesseract-OCR\\tesseract.exe\"\n",
    "\n",
    "ali_image_path = \"corrected_aligned_image.jpg\"\n",
    "ali_image = cv2.imread(ali_image_path)\n",
    "\n",
    "if ali_image is None:\n",
    "    raise FileNotFoundError(\"Aligned image not found.\")\n",
    "\n",
    "nam_box_coords = (170, 210, 1450, 360)\n",
    "chk_1390_coords = (120, 575, 475, 650)\n",
    "chk_2390_coords = (120, 725, 475, 800)\n",
    "txt_box_coords = (200, 1500, 2100, 1925)\n",
    "dig_boxes_coords = [\n",
    "    (360, 1035, 540, 1140), \n",
    "    (610, 1035, 790, 1140),  \n",
    "    (870, 1035, 1050, 1140), \n",
    "    (1120, 1035, 1300, 1140), \n",
    "    (1385, 1035, 1555, 1140)\n",
    "]\n",
    "\n",
    "def ext_text(img, coords, config=\"--psm 6\"):\n",
    "    x_start, y_start, x_end, y_end = coords\n",
    "    roi = img[y_start:y_end, x_start:x_end]\n",
    "    gray = cv2.cvtColor(roi, cv2.COLOR_BGR2GRAY)\n",
    "    resized = cv2.resize(gray, None, fx=2, fy=2, interpolation=cv2.INTER_CUBIC)\n",
    "    return pytesseract.image_to_string(resized, config=config).strip()\n",
    "\n",
    "nam_text = ext_text(ali_image, nam_box_coords, config=\"--psm 7\")\n",
    "\n",
    "def chk_intensity(img, coords):\n",
    "    x_start, y_start, x_end, y_end = coords\n",
    "    roi = img[y_start:y_end, x_start:x_end]\n",
    "    return np.mean(cv2.cvtColor(roi, cv2.COLOR_BGR2GRAY))\n",
    "\n",
    "int_1390 = chk_intensity(ali_image, chk_1390_coords)\n",
    "int_2390 = chk_intensity(ali_image, chk_2390_coords)\n",
    "sel_chkbox = \"ECE 1390\" if int_1390 < int_2390 else \"ECE 2390\"\n",
    "\n",
    "dig_vals = []\n",
    "for i, dig_coords in enumerate(dig_boxes_coords):\n",
    "    dig_roi = ali_image[dig_coords[1]:dig_coords[3], dig_coords[0]:dig_coords[2]]\n",
    "    gray_dig = cv2.cvtColor(dig_roi, cv2.COLOR_BGR2GRAY)\n",
    "    _, binary_dig = cv2.threshold(gray_dig, 128, 255, cv2.THRESH_BINARY)\n",
    "    config = \"--psm 10 -c tessedit_char_whitelist=0123456789\"\n",
    "    dig_text = pytesseract.image_to_string(binary_dig, config=config).strip()\n",
    "    dig_vals.append(dig_text)\n",
    "\n",
    "x_start, y_start, x_end, y_end = txt_box_coords\n",
    "txt_box_roi = ali_image[y_start:y_end, x_start:x_end]\n",
    "gray_txt_box = cv2.cvtColor(txt_box_roi, cv2.COLOR_BGR2GRAY)\n",
    "_, txt_box_binary = cv2.threshold(gray_txt_box, 128, 255, cv2.THRESH_BINARY)\n",
    "txt_detected = pytesseract.image_to_string(txt_box_binary, config=\"--psm 6\").strip()\n",
    "\n",
    "print(\"Detected Name:\", nam_text)\n",
    "print(\"Selected Checkbox:\", sel_chkbox)\n",
    "print(\"Detected Digits:\", \"\".join(dig_vals))\n",
    "print(\"Detected Text:\", txt_detected)"
   ]
  },
  {
   "cell_type": "code",
   "execution_count": null,
   "id": "ac9e5570",
   "metadata": {},
   "outputs": [],
   "source": []
  }
 ],
 "metadata": {
  "kernelspec": {
   "display_name": "Python 3 (ipykernel)",
   "language": "python",
   "name": "python3"
  },
  "language_info": {
   "codemirror_mode": {
    "name": "ipython",
    "version": 3
   },
   "file_extension": ".py",
   "mimetype": "text/x-python",
   "name": "python",
   "nbconvert_exporter": "python",
   "pygments_lexer": "ipython3",
   "version": "3.11.1"
  }
 },
 "nbformat": 4,
 "nbformat_minor": 5
}
